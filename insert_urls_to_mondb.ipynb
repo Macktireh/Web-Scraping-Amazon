{
 "cells": [
  {
   "cell_type": "code",
   "execution_count": 1,
   "source": [
    "import pymongo as pym      # Interface with Python <--> MongoDB \r\n",
    "import pandas as pd        # Create Dataframe\r\n",
    "import os                  # find files on system\r\n",
    "import csv                 \r\n",
    "import json  "
   ],
   "outputs": [],
   "metadata": {}
  },
  {
   "cell_type": "code",
   "execution_count": 2,
   "source": [
    "product_urls = [\r\n",
    "   \"https://www.amazon.fr/Apple-AirPods-bo%C3%AEtier-charge-Dernier/dp/B07PZR3PVB/ref=sr_1_5?__mk_fr_FR=%C3%85M%C3%85%C5%BD%C3%95%C3%91&dchild=1&keywords=airpod&qid=1610634324&sr=8-5\",\r\n",
    "   \"https://www.amazon.fr/PlayStation-%C3%89dition-Standard-DualSense-Couleur/dp/B08H93ZRK9/ref=sr_1_1?__mk_fr_FR=%C3%85M%C3%85%C5%BD%C3%95%C3%91&crid=OC9DXXI5NXTR&dchild=1&keywords=playstation+5&qid=1610634362&sprefix=playstatio%2Caps%2C204&sr=8-1\",\r\n",
    "   \"https://www.amazon.fr/Nintendo-Switch-avec-paire-Rouge/dp/B07WKNQ8JT/ref=zg_bs_videogames_home_1?_encoding=UTF8&psc=1&refRID=NXGE6WDBSEDAVF5CS2AA\",\r\n",
    "   \"https://www.amazon.fr/T12S-Transformation-semaines-minutes-d%C3%A9finitivement/dp/2035999642/ref=zg_bsnr_books_home_1?_encoding=UTF8&psc=1&refRID=71P5R2S30WR2EPDRPAP7\",\r\n",
    "   \"https://www.amazon.fr/chronique-Bridgerton-Tomes-Julia-Quinn/dp/2290254738/ref=zg_bsnr_books_home_3?_encoding=UTF8&psc=1&refRID=71P5R2S30WR2EPDRPAP7\",\r\n",
    "   \"https://www.amazon.fr/Incorra-Pieuvre-Reversible-Peluche-Cr%C3%A9atifs/dp/B08NW2RRXJ/ref=zg_bsnr_toys_home_3?_encoding=UTF8&psc=1&refRID=71P5R2S30WR2EPDRPAP7\"\r\n",
    "]"
   ],
   "outputs": [],
   "metadata": {}
  },
  {
   "cell_type": "code",
   "execution_count": 3,
   "source": [
    "urls = pd.DataFrame(product_urls, columns = [\"url\"])\r\n",
    "urls.head()"
   ],
   "outputs": [
    {
     "output_type": "execute_result",
     "data": {
      "text/plain": [
       "                                                 url\n",
       "0  https://www.amazon.fr/Apple-AirPods-bo%C3%AEti...\n",
       "1  https://www.amazon.fr/PlayStation-%C3%89dition...\n",
       "2  https://www.amazon.fr/Nintendo-Switch-avec-pai...\n",
       "3  https://www.amazon.fr/T12S-Transformation-sema...\n",
       "4  https://www.amazon.fr/chronique-Bridgerton-Tom..."
      ],
      "text/html": [
       "<div>\n",
       "<style scoped>\n",
       "    .dataframe tbody tr th:only-of-type {\n",
       "        vertical-align: middle;\n",
       "    }\n",
       "\n",
       "    .dataframe tbody tr th {\n",
       "        vertical-align: top;\n",
       "    }\n",
       "\n",
       "    .dataframe thead th {\n",
       "        text-align: right;\n",
       "    }\n",
       "</style>\n",
       "<table border=\"1\" class=\"dataframe\">\n",
       "  <thead>\n",
       "    <tr style=\"text-align: right;\">\n",
       "      <th></th>\n",
       "      <th>url</th>\n",
       "    </tr>\n",
       "  </thead>\n",
       "  <tbody>\n",
       "    <tr>\n",
       "      <th>0</th>\n",
       "      <td>https://www.amazon.fr/Apple-AirPods-bo%C3%AEti...</td>\n",
       "    </tr>\n",
       "    <tr>\n",
       "      <th>1</th>\n",
       "      <td>https://www.amazon.fr/PlayStation-%C3%89dition...</td>\n",
       "    </tr>\n",
       "    <tr>\n",
       "      <th>2</th>\n",
       "      <td>https://www.amazon.fr/Nintendo-Switch-avec-pai...</td>\n",
       "    </tr>\n",
       "    <tr>\n",
       "      <th>3</th>\n",
       "      <td>https://www.amazon.fr/T12S-Transformation-sema...</td>\n",
       "    </tr>\n",
       "    <tr>\n",
       "      <th>4</th>\n",
       "      <td>https://www.amazon.fr/chronique-Bridgerton-Tom...</td>\n",
       "    </tr>\n",
       "  </tbody>\n",
       "</table>\n",
       "</div>"
      ]
     },
     "metadata": {},
     "execution_count": 3
    }
   ],
   "metadata": {}
  },
  {
   "cell_type": "code",
   "execution_count": 75,
   "source": [
    "urls = urls.to_json(orient ='records')\r\n",
    "print(\"json_index = \", urls, \"\\n\")"
   ],
   "outputs": [
    {
     "output_type": "stream",
     "name": "stdout",
     "text": [
      "json_index =  [{\"url\":\"https:\\/\\/www.amazon.fr\\/Apple-AirPods-bo%C3%AEtier-charge-Dernier\\/dp\\/B07PZR3PVB\\/ref=sr_1_5?__mk_fr_FR=%C3%85M%C3%85%C5%BD%C3%95%C3%91&dchild=1&keywords=airpod&qid=1610634324&sr=8-5\"},{\"url\":\"https:\\/\\/www.amazon.fr\\/PlayStation-%C3%89dition-Standard-DualSense-Couleur\\/dp\\/B08H93ZRK9\\/ref=sr_1_1?__mk_fr_FR=%C3%85M%C3%85%C5%BD%C3%95%C3%91&crid=OC9DXXI5NXTR&dchild=1&keywords=playstation+5&qid=1610634362&sprefix=playstatio%2Caps%2C204&sr=8-1\"},{\"url\":\"https:\\/\\/www.amazon.fr\\/Nintendo-Switch-avec-paire-Rouge\\/dp\\/B07WKNQ8JT\\/ref=zg_bs_videogames_home_1?_encoding=UTF8&psc=1&refRID=NXGE6WDBSEDAVF5CS2AA\"},{\"url\":\"https:\\/\\/www.amazon.fr\\/T12S-Transformation-semaines-minutes-d%C3%A9finitivement\\/dp\\/2035999642\\/ref=zg_bsnr_books_home_1?_encoding=UTF8&psc=1&refRID=71P5R2S30WR2EPDRPAP7\"},{\"url\":\"https:\\/\\/www.amazon.fr\\/chronique-Bridgerton-Tomes-Julia-Quinn\\/dp\\/2290254738\\/ref=zg_bsnr_books_home_3?_encoding=UTF8&psc=1&refRID=71P5R2S30WR2EPDRPAP7\"},{\"url\":\"https:\\/\\/www.amazon.fr\\/Incorra-Pieuvre-Reversible-Peluche-Cr%C3%A9atifs\\/dp\\/B08NW2RRXJ\\/ref=zg_bsnr_toys_home_3?_encoding=UTF8&psc=1&refRID=71P5R2S30WR2EPDRPAP7\"}] \n",
      "\n"
     ]
    }
   ],
   "metadata": {}
  },
  {
   "cell_type": "code",
   "execution_count": 67,
   "source": [
    "# urls = [{'url': 'https://www.amazon.fr/Apple-AirPods-bo%C3%AEtier-charge-Dernier/dp/B07PZR3PVB/ref=sr_1_5?__mk_fr_FR=%C3%85M%C3%85%C5%BD%C3%95%C3%91&dchild=1&keywords=airpod&qid=1610634324&sr=8-5',\r\n",
    "#   'url': 'https://www.amazon.fr/PlayStation-%C3%89dition-Standard-DualSense-Couleur/dp/B08H93ZRK9/ref=sr_1_1?__mk_fr_FR=%C3%85M%C3%85%C5%BD%C3%95%C3%91&crid=OC9DXXI5NXTR&dchild=1&keywords=playstation+5&qid=1610634362&sprefix=playstatio%2Caps%2C204&sr=8-1',\r\n",
    "#   'url': 'https://www.amazon.fr/Nintendo-Switch-avec-paire-Rouge/dp/B07WKNQ8JT/ref=zg_bs_videogames_home_1?_encoding=UTF8&psc=1&refRID=NXGE6WDBSEDAVF5CS2AA',\r\n",
    "#   'url': 'https://www.amazon.fr/T12S-Transformation-semaines-minutes-d%C3%A9finitivement/dp/2035999642/ref=zg_bsnr_books_home_1?_encoding=UTF8&psc=1&refRID=71P5R2S30WR2EPDRPAP7',\r\n",
    "#   'url': 'https://www.amazon.fr/chronique-Bridgerton-Tomes-Julia-Quinn/dp/2290254738/ref=zg_bsnr_books_home_3?_encoding=UTF8&psc=1&refRID=71P5R2S30WR2EPDRPAP7',\r\n",
    "#   'url': 'https://www.amazon.fr/Incorra-Pieuvre-Reversible-Peluche-Cr%C3%A9atifs/dp/B08NW2RRXJ/ref=zg_bsnr_toys_home_3?_encoding=UTF8&psc=1&refRID=71P5R2S30WR2EPDRPAP7'}]"
   ],
   "outputs": [],
   "metadata": {}
  },
  {
   "cell_type": "code",
   "execution_count": 4,
   "source": [
    "# Making a Connection to MongoClient\r\n",
    "client = pym.MongoClient('mongodb://localhost:27017/')\r\n",
    "\r\n",
    "# CREATING A DATABASE:\r\n",
    "db = client[\"amazon\"]\r\n",
    "\r\n",
    "# CREATING A COLLECTION (*AKA* TABLE):\r\n",
    "user_info_table= db[\"product_urls\"]"
   ],
   "outputs": [],
   "metadata": {}
  },
  {
   "cell_type": "code",
   "execution_count": 5,
   "source": [
    "urls = [{\"url\":\"https:\\\\/\\\\/www.amazon.fr\\\\/Apple-AirPods-bo%C3%AEtier-charge-Dernier\\\\/dp\\\\/B07PZR3PVB\\\\/ref=sr_1_5?__mk_fr_FR=%C3%85M%C3%85%C5%BD%C3%95%C3%91&dchild=1&keywords=airpod&qid=1610634324&sr=8-5\"},{\"url\":\"https:\\\\/\\\\/www.amazon.fr\\\\/PlayStation-%C3%89dition-Standard-DualSense-Couleur\\\\/dp\\\\/B08H93ZRK9\\\\/ref=sr_1_1?__mk_fr_FR=%C3%85M%C3%85%C5%BD%C3%95%C3%91&crid=OC9DXXI5NXTR&dchild=1&keywords=playstation+5&qid=1610634362&sprefix=playstatio%2Caps%2C204&sr=8-1\"},{\"url\":\"https:\\\\/\\\\/www.amazon.fr\\\\/Nintendo-Switch-avec-paire-Rouge\\\\/dp\\\\/B07WKNQ8JT\\\\/ref=zg_bs_videogames_home_1?_encoding=UTF8&psc=1&refRID=NXGE6WDBSEDAVF5CS2AA\"},{\"url\":\"https:\\\\/\\\\/www.amazon.fr\\\\/T12S-Transformation-semaines-minutes-d%C3%A9finitivement\\\\/dp\\\\/2035999642\\\\/ref=zg_bsnr_books_home_1?_encoding=UTF8&psc=1&refRID=71P5R2S30WR2EPDRPAP7\"},{\"url\":\"https:\\\\/\\\\/www.amazon.fr\\\\/chronique-Bridgerton-Tomes-Julia-Quinn\\\\/dp\\\\/2290254738\\\\/ref=zg_bsnr_books_home_3?_encoding=UTF8&psc=1&refRID=71P5R2S30WR2EPDRPAP7\"},{\"url\":\"https:\\\\/\\\\/www.amazon.fr\\\\/Incorra-Pieuvre-Reversible-Peluche-Cr%C3%A9atifs\\\\/dp\\\\/B08NW2RRXJ\\\\/ref=zg_bsnr_toys_home_3?_encoding=UTF8&psc=1&refRID=71P5R2S30WR2EPDRPAP7\"}]\r\n",
    "urls"
   ],
   "outputs": [
    {
     "output_type": "execute_result",
     "data": {
      "text/plain": [
       "[{'url': 'https:\\\\/\\\\/www.amazon.fr\\\\/Apple-AirPods-bo%C3%AEtier-charge-Dernier\\\\/dp\\\\/B07PZR3PVB\\\\/ref=sr_1_5?__mk_fr_FR=%C3%85M%C3%85%C5%BD%C3%95%C3%91&dchild=1&keywords=airpod&qid=1610634324&sr=8-5'},\n",
       " {'url': 'https:\\\\/\\\\/www.amazon.fr\\\\/PlayStation-%C3%89dition-Standard-DualSense-Couleur\\\\/dp\\\\/B08H93ZRK9\\\\/ref=sr_1_1?__mk_fr_FR=%C3%85M%C3%85%C5%BD%C3%95%C3%91&crid=OC9DXXI5NXTR&dchild=1&keywords=playstation+5&qid=1610634362&sprefix=playstatio%2Caps%2C204&sr=8-1'},\n",
       " {'url': 'https:\\\\/\\\\/www.amazon.fr\\\\/Nintendo-Switch-avec-paire-Rouge\\\\/dp\\\\/B07WKNQ8JT\\\\/ref=zg_bs_videogames_home_1?_encoding=UTF8&psc=1&refRID=NXGE6WDBSEDAVF5CS2AA'},\n",
       " {'url': 'https:\\\\/\\\\/www.amazon.fr\\\\/T12S-Transformation-semaines-minutes-d%C3%A9finitivement\\\\/dp\\\\/2035999642\\\\/ref=zg_bsnr_books_home_1?_encoding=UTF8&psc=1&refRID=71P5R2S30WR2EPDRPAP7'},\n",
       " {'url': 'https:\\\\/\\\\/www.amazon.fr\\\\/chronique-Bridgerton-Tomes-Julia-Quinn\\\\/dp\\\\/2290254738\\\\/ref=zg_bsnr_books_home_3?_encoding=UTF8&psc=1&refRID=71P5R2S30WR2EPDRPAP7'},\n",
       " {'url': 'https:\\\\/\\\\/www.amazon.fr\\\\/Incorra-Pieuvre-Reversible-Peluche-Cr%C3%A9atifs\\\\/dp\\\\/B08NW2RRXJ\\\\/ref=zg_bsnr_toys_home_3?_encoding=UTF8&psc=1&refRID=71P5R2S30WR2EPDRPAP7'}]"
      ]
     },
     "metadata": {},
     "execution_count": 5
    }
   ],
   "metadata": {}
  },
  {
   "cell_type": "code",
   "execution_count": 84,
   "source": [
    "# user_info_table.insert_many(urls)"
   ],
   "outputs": [
    {
     "output_type": "execute_result",
     "data": {
      "text/plain": [
       "<pymongo.results.InsertManyResult at 0x187b4a14e40>"
      ]
     },
     "metadata": {},
     "execution_count": 84
    }
   ],
   "metadata": {}
  },
  {
   "cell_type": "code",
   "execution_count": 14,
   "source": [
    "product_urls = client[\"amazon\"][\"product_urls\"].find()\r\n",
    "for product_url in product_urls:\r\n",
    "    print(product_url[\"url\"])\r\n",
    "    print()"
   ],
   "outputs": [
    {
     "output_type": "stream",
     "name": "stdout",
     "text": [
      "https:\\/\\/www.amazon.fr\\/Apple-AirPods-bo%C3%AEtier-charge-Dernier\\/dp\\/B07PZR3PVB\\/ref=sr_1_5?__mk_fr_FR=%C3%85M%C3%85%C5%BD%C3%95%C3%91&dchild=1&keywords=airpod&qid=1610634324&sr=8-5\n",
      "\n",
      "https:\\/\\/www.amazon.fr\\/PlayStation-%C3%89dition-Standard-DualSense-Couleur\\/dp\\/B08H93ZRK9\\/ref=sr_1_1?__mk_fr_FR=%C3%85M%C3%85%C5%BD%C3%95%C3%91&crid=OC9DXXI5NXTR&dchild=1&keywords=playstation+5&qid=1610634362&sprefix=playstatio%2Caps%2C204&sr=8-1\n",
      "\n",
      "https:\\/\\/www.amazon.fr\\/Nintendo-Switch-avec-paire-Rouge\\/dp\\/B07WKNQ8JT\\/ref=zg_bs_videogames_home_1?_encoding=UTF8&psc=1&refRID=NXGE6WDBSEDAVF5CS2AA\n",
      "\n",
      "https:\\/\\/www.amazon.fr\\/T12S-Transformation-semaines-minutes-d%C3%A9finitivement\\/dp\\/2035999642\\/ref=zg_bsnr_books_home_1?_encoding=UTF8&psc=1&refRID=71P5R2S30WR2EPDRPAP7\n",
      "\n",
      "https:\\/\\/www.amazon.fr\\/chronique-Bridgerton-Tomes-Julia-Quinn\\/dp\\/2290254738\\/ref=zg_bsnr_books_home_3?_encoding=UTF8&psc=1&refRID=71P5R2S30WR2EPDRPAP7\n",
      "\n",
      "https:\\/\\/www.amazon.fr\\/Incorra-Pieuvre-Reversible-Peluche-Cr%C3%A9atifs\\/dp\\/B08NW2RRXJ\\/ref=zg_bsnr_toys_home_3?_encoding=UTF8&psc=1&refRID=71P5R2S30WR2EPDRPAP7\n",
      "\n"
     ]
    }
   ],
   "metadata": {}
  },
  {
   "cell_type": "code",
   "execution_count": null,
   "source": [
    "for fkv in ojf:\r\n",
    "    pprint.pprint(product_url[\"url\"])\r\n",
    "    print()"
   ],
   "outputs": [],
   "metadata": {}
  }
 ],
 "metadata": {
  "orig_nbformat": 4,
  "language_info": {
   "name": "python",
   "version": "3.8.3",
   "mimetype": "text/x-python",
   "codemirror_mode": {
    "name": "ipython",
    "version": 3
   },
   "pygments_lexer": "ipython3",
   "nbconvert_exporter": "python",
   "file_extension": ".py"
  },
  "kernelspec": {
   "name": "python3",
   "display_name": "Python 3.8.3 64-bit ('base': conda)"
  },
  "interpreter": {
   "hash": "6818c136df254f5c66bcf5767f2238e8dd629a2115d86e300879c901da986e87"
  }
 },
 "nbformat": 4,
 "nbformat_minor": 2
}